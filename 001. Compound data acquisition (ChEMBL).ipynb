{
 "cells": [
  {
   "cell_type": "markdown",
   "id": "499e1ae4",
   "metadata": {},
   "source": [
    "#### Aim of this script\n",
    "Understand the ChEMBL database and how to extract data from ChEMBL\n",
    "i.e. (compound, acitivity data) pairs for a target of interest. \n",
    "The extracted data is used for cheminformatics tasks, such as similarity search, clustering, and machine learning\n",
    "\n",
    "### ChEMBL database\n",
    "#### (Current Release: ChEMBL 29)\n",
    "“ChEMBL is a manually curated database of bioactive molecules with drug-like properties. It brings together chemical, bioactivity and genomic data to aid the translation of genomic information into effective new drugs.” (ChEMBL website)\n",
    "\n",
    "Current data content (as of 09.2020, ChEMBL 27)\n",
    "\n",
    "    * >1.9 million distinct compounds\n",
    "\n",
    "    * >16 million activity values\n",
    "\n",
    "    * Assays are mapped to ~13,000 targets\n",
    "\n",
    "Data source include scientific literature, PubChem bioassays, Drugs of Neglected Disease Initiative (DNDi), BindingDB database, ...\n",
    "\n",
    "###### Access ChEMBL data: via a web-interface, the EBI-RDF platform and the ChEMBL webresource client"
   ]
  },
  {
   "cell_type": "markdown",
   "id": "9af1f105",
   "metadata": {},
   "source": [
    "##### ChEMBL webresource client\n",
    "* Python client library for accessing ChEMBL data\n",
    "* Handles interaction with the HTTPS protocol\n",
    "* Lazy evaluation of results -> reduced number of network requests\n",
    "\n",
    "##### Compound activity measures\n",
    "* IC50: half maximal inhibitory concentration\n",
    "Indicates how much of a particular drug or other substance is needed to inhibit a given biological process by half\n",
    "* Ki\n",
    "* EC50\n",
    "etc"
   ]
  },
  {
   "cell_type": "markdown",
   "id": "97e91579",
   "metadata": {},
   "source": [
    "### Connect to ChEMBL database\n",
    "Load Python libraries"
   ]
  },
  {
   "cell_type": "code",
   "execution_count": 2,
   "id": "77e32410",
   "metadata": {},
   "outputs": [],
   "source": [
    "import math\n",
    "from pathlib import Path\n",
    "from zipfile import ZipFile\n",
    "\n",
    "import numpy as np\n",
    "import pandas as pd\n",
    "from rdkit.Chem import PandasTools\n",
    "from chembl_webresource_client.new_client import new_client\n",
    "from tqdm import tqdm"
   ]
  },
  {
   "cell_type": "markdown",
   "id": "cebe9a3e",
   "metadata": {},
   "source": [
    "Set directory path"
   ]
  },
  {
   "cell_type": "code",
   "execution_count": 272,
   "id": "30aaad73",
   "metadata": {},
   "outputs": [],
   "source": [
    "path = '/Users/hek/Research/Cheminformatics/Project_1_NPS/Stimulant vs. Hallucinogens/Dataset/Bioassay data/ChEMBL data/'"
   ]
  },
  {
   "cell_type": "code",
   "execution_count": 271,
   "id": "674939d1",
   "metadata": {},
   "outputs": [],
   "source": [
    "def convert_to_logp(value):\n",
    "    logp_value = 9 - math.log10(value)\n",
    "    return logp_value"
   ]
  },
  {
   "cell_type": "markdown",
   "id": "a7e5c2e6",
   "metadata": {},
   "source": [
    "Create resource objects for API access"
   ]
  },
  {
   "cell_type": "code",
   "execution_count": 60,
   "id": "ace75292",
   "metadata": {},
   "outputs": [],
   "source": [
    "targets_api = new_client.target\n",
    "compounds_api = new_client.molecule\n",
    "bioactivities_api = new_client.activity"
   ]
  },
  {
   "cell_type": "code",
   "execution_count": 61,
   "id": "f4532c8d",
   "metadata": {},
   "outputs": [
    {
     "data": {
      "text/plain": [
       "chembl_webresource_client.query_set.QuerySet"
      ]
     },
     "execution_count": 61,
     "metadata": {},
     "output_type": "execute_result"
    }
   ],
   "source": [
    "type(targets_api)"
   ]
  },
  {
   "cell_type": "markdown",
   "id": "79634ff7",
   "metadata": {},
   "source": [
    "#### Get target data\n",
    "* Get UniProt ID of the target of interest (EGFR kinase:P00533) from UniProt website (https://www.uniprot.org/)\n",
    "* Use UniProt ID to get target information\n",
    "Select a different UniProt ID, if you are interested in another target\n",
    "\n",
    "##### UniProt ID\n",
    "* NET: P23975\n",
    "* DAT: Q01959\n",
    "* SERT: P31645\n",
    "* CB1: P21554\n",
    "* CB2: P34972\n",
    "* 5-HT2A: P28223\n",
    "* 5-HT2C: P28335\n",
    "* mu-opioid: P35372"
   ]
  },
  {
   "cell_type": "code",
   "execution_count": 2061,
   "id": "c885d943",
   "metadata": {},
   "outputs": [],
   "source": [
    "Name = \"GABAgamma1\"\n",
    "uniprot_id=\"P23574\""
   ]
  },
  {
   "cell_type": "markdown",
   "id": "535e7c0c",
   "metadata": {},
   "source": [
    "##### Fetch target data from ChEMBL"
   ]
  },
  {
   "cell_type": "code",
   "execution_count": 2062,
   "id": "43d0490d",
   "metadata": {},
   "outputs": [
    {
     "name": "stdout",
     "output_type": "stream",
     "text": [
      "The type of the targets is \"<class 'chembl_webresource_client.query_set.QuerySet'>\"\n"
     ]
    }
   ],
   "source": [
    "# Get target information from ChEMBL but restrict it to specified values only\n",
    "targets = targets_api.get(target_components__accession=uniprot_id).only(\n",
    "    \"target_chembl_id\", \"organism\", \"pref_name\", \"target_type\"\n",
    ")\n",
    "print(f'The type of the targets is \"{type(targets)}\"')"
   ]
  },
  {
   "cell_type": "code",
   "execution_count": 2063,
   "id": "8315959f",
   "metadata": {},
   "outputs": [
    {
     "data": {
      "text/html": [
       "<div>\n",
       "<style scoped>\n",
       "    .dataframe tbody tr th:only-of-type {\n",
       "        vertical-align: middle;\n",
       "    }\n",
       "\n",
       "    .dataframe tbody tr th {\n",
       "        vertical-align: top;\n",
       "    }\n",
       "\n",
       "    .dataframe thead th {\n",
       "        text-align: right;\n",
       "    }\n",
       "</style>\n",
       "<table border=\"1\" class=\"dataframe\">\n",
       "  <thead>\n",
       "    <tr style=\"text-align: right;\">\n",
       "      <th></th>\n",
       "      <th>organism</th>\n",
       "      <th>pref_name</th>\n",
       "      <th>target_chembl_id</th>\n",
       "      <th>target_type</th>\n",
       "    </tr>\n",
       "  </thead>\n",
       "  <tbody>\n",
       "    <tr>\n",
       "      <th>0</th>\n",
       "      <td>Rattus norvegicus</td>\n",
       "      <td>GABA receptor gamma-1 subunit</td>\n",
       "      <td>CHEMBL296</td>\n",
       "      <td>SINGLE PROTEIN</td>\n",
       "    </tr>\n",
       "    <tr>\n",
       "      <th>1</th>\n",
       "      <td>Rattus norvegicus</td>\n",
       "      <td>GABA receptor gamma-1 subunit</td>\n",
       "      <td>CHEMBL296</td>\n",
       "      <td>SINGLE PROTEIN</td>\n",
       "    </tr>\n",
       "    <tr>\n",
       "      <th>2</th>\n",
       "      <td>Rattus norvegicus</td>\n",
       "      <td>GABA-A receptor; anion channel</td>\n",
       "      <td>CHEMBL1907607</td>\n",
       "      <td>PROTEIN COMPLEX GROUP</td>\n",
       "    </tr>\n",
       "    <tr>\n",
       "      <th>3</th>\n",
       "      <td>Rattus norvegicus</td>\n",
       "      <td>Benzodiazepine receptors; peripheral &amp; central</td>\n",
       "      <td>CHEMBL2096683</td>\n",
       "      <td>SELECTIVITY GROUP</td>\n",
       "    </tr>\n",
       "  </tbody>\n",
       "</table>\n",
       "</div>"
      ],
      "text/plain": [
       "            organism                                       pref_name  \\\n",
       "0  Rattus norvegicus                   GABA receptor gamma-1 subunit   \n",
       "1  Rattus norvegicus                   GABA receptor gamma-1 subunit   \n",
       "2  Rattus norvegicus                  GABA-A receptor; anion channel   \n",
       "3  Rattus norvegicus  Benzodiazepine receptors; peripheral & central   \n",
       "\n",
       "  target_chembl_id            target_type  \n",
       "0        CHEMBL296         SINGLE PROTEIN  \n",
       "1        CHEMBL296         SINGLE PROTEIN  \n",
       "2    CHEMBL1907607  PROTEIN COMPLEX GROUP  \n",
       "3    CHEMBL2096683      SELECTIVITY GROUP  "
      ]
     },
     "execution_count": 2063,
     "metadata": {},
     "output_type": "execute_result"
    }
   ],
   "source": [
    "targets = pd.DataFrame.from_records(targets)\n",
    "targets"
   ]
  },
  {
   "cell_type": "markdown",
   "id": "70ef6829",
   "metadata": {},
   "source": [
    "##### Download target data from ChEMBL\n",
    "* The results of the query are stored in targets, a QuerySet. \n",
    "* The results are not fetched from ChEMBL until we ask for it\n",
    "* We ask for the results use pandas.DataFrame.from_records"
   ]
  },
  {
   "cell_type": "markdown",
   "id": "30f4ebac",
   "metadata": {},
   "source": [
    "##### Select ChEMBL ID (select target)"
   ]
  },
  {
   "cell_type": "markdown",
   "id": "e8d9d6df",
   "metadata": {},
   "source": [
    "#### Get bioactivity data\n",
    "Query bioactivity data for the target of interest\n",
    "##### Fetch bioactivity data for the target from ChEMBL\n",
    "Fetch the bioactivity data and filter it to only consider\n",
    "* human proteins\n",
    "* bioactivity type: IC50, Ki, or other type\n",
    "* exact measurements (relation'='), and\n",
    "* binding data (assay type 'B')"
   ]
  },
  {
   "cell_type": "code",
   "execution_count": 2064,
   "id": "52ef101f",
   "metadata": {},
   "outputs": [
    {
     "name": "stdout",
     "output_type": "stream",
     "text": [
      "Target organism Rattus norvegicus\n",
      "Target name GABA receptor gamma-1 subunit\n",
      "Target type SINGLE PROTEIN\n",
      "The target ChEMBL ID is CHEMBL296\n"
     ]
    }
   ],
   "source": [
    "target = targets.iloc[0]\n",
    "chembl_id = target.target_chembl_id\n",
    "print(\"Target organism\", target.organism)\n",
    "print(\"Target name\", target.pref_name)\n",
    "print(\"Target type\",target.target_type)\n",
    "print(\"The target ChEMBL ID is\", chembl_id)"
   ]
  },
  {
   "cell_type": "code",
   "execution_count": 2049,
   "id": "288a18e5",
   "metadata": {},
   "outputs": [],
   "source": [
    "bioassay_type = 'Ki'\n",
    "#bioassay_type = 'IC50' \n",
    "#bioassay_type = 'EC50' "
   ]
  },
  {
   "cell_type": "code",
   "execution_count": 2065,
   "id": "2d30aa44",
   "metadata": {},
   "outputs": [
    {
     "name": "stdout",
     "output_type": "stream",
     "text": [
      "Length and type of bioactivities object: 0, <class 'chembl_webresource_client.query_set.QuerySet'>\n"
     ]
    }
   ],
   "source": [
    "bioactivities = bioactivities_api.filter(\n",
    "    target_chembl_id=chembl_id, type=bioassay_type, relation=\"=\", assay_type=\"B\"\n",
    ").only(\n",
    "    \"activity_id\",\n",
    "    \"assay_chembl_id\",\n",
    "    \"assay_description\",\n",
    "    \"assay_type\",\n",
    "    \"molecule_chembl_id\",\n",
    "    \"type\",\n",
    "    \"standard_units\",\n",
    "    \"relation\",\n",
    "    \"standard_value\",\n",
    "    \"target_chembl_id\",\n",
    "    \"target_organism\",\n",
    ")\n",
    "\n",
    "print(f\"Length and type of bioactivities object: {len(bioactivities)}, {type(bioactivities)}\")"
   ]
  },
  {
   "cell_type": "code",
   "execution_count": 887,
   "id": "d2f2d63c",
   "metadata": {},
   "outputs": [],
   "source": [
    "#bioactivities[0]"
   ]
  },
  {
   "cell_type": "markdown",
   "id": "57cfe1ea",
   "metadata": {},
   "source": [
    "##### Download bioactivity data from ChEMBL"
   ]
  },
  {
   "cell_type": "code",
   "execution_count": 2007,
   "id": "70257682",
   "metadata": {},
   "outputs": [
    {
     "name": "stdout",
     "output_type": "stream",
     "text": [
      "DataFrame shape: (415, 13)\n"
     ]
    },
    {
     "data": {
      "text/html": [
       "<div>\n",
       "<style scoped>\n",
       "    .dataframe tbody tr th:only-of-type {\n",
       "        vertical-align: middle;\n",
       "    }\n",
       "\n",
       "    .dataframe tbody tr th {\n",
       "        vertical-align: top;\n",
       "    }\n",
       "\n",
       "    .dataframe thead th {\n",
       "        text-align: right;\n",
       "    }\n",
       "</style>\n",
       "<table border=\"1\" class=\"dataframe\">\n",
       "  <thead>\n",
       "    <tr style=\"text-align: right;\">\n",
       "      <th></th>\n",
       "      <th>activity_id</th>\n",
       "      <th>assay_chembl_id</th>\n",
       "      <th>assay_description</th>\n",
       "      <th>assay_type</th>\n",
       "      <th>molecule_chembl_id</th>\n",
       "      <th>relation</th>\n",
       "      <th>standard_units</th>\n",
       "      <th>standard_value</th>\n",
       "      <th>target_chembl_id</th>\n",
       "      <th>target_organism</th>\n",
       "      <th>type</th>\n",
       "      <th>units</th>\n",
       "      <th>value</th>\n",
       "    </tr>\n",
       "  </thead>\n",
       "  <tbody>\n",
       "    <tr>\n",
       "      <th>0</th>\n",
       "      <td>816955</td>\n",
       "      <td>CHEMBL680331</td>\n",
       "      <td>Displacement of [3H]-Ro-15-1788 from human GAB...</td>\n",
       "      <td>B</td>\n",
       "      <td>CHEMBL45198</td>\n",
       "      <td>=</td>\n",
       "      <td>nM</td>\n",
       "      <td>33.3</td>\n",
       "      <td>CHEMBL5112</td>\n",
       "      <td>Homo sapiens</td>\n",
       "      <td>Ki</td>\n",
       "      <td>nM</td>\n",
       "      <td>33.3</td>\n",
       "    </tr>\n",
       "    <tr>\n",
       "      <th>1</th>\n",
       "      <td>816955</td>\n",
       "      <td>CHEMBL680331</td>\n",
       "      <td>Displacement of [3H]-Ro-15-1788 from human GAB...</td>\n",
       "      <td>B</td>\n",
       "      <td>CHEMBL45198</td>\n",
       "      <td>=</td>\n",
       "      <td>nM</td>\n",
       "      <td>33.3</td>\n",
       "      <td>CHEMBL5112</td>\n",
       "      <td>Homo sapiens</td>\n",
       "      <td>Ki</td>\n",
       "      <td>nM</td>\n",
       "      <td>33.3</td>\n",
       "    </tr>\n",
       "    <tr>\n",
       "      <th>2</th>\n",
       "      <td>2401385</td>\n",
       "      <td>CHEMBL942244</td>\n",
       "      <td>Displacement of [3H]Ro-151788 from benzodiazep...</td>\n",
       "      <td>B</td>\n",
       "      <td>CHEMBL6597</td>\n",
       "      <td>=</td>\n",
       "      <td>nM</td>\n",
       "      <td>3.1</td>\n",
       "      <td>CHEMBL5112</td>\n",
       "      <td>Homo sapiens</td>\n",
       "      <td>Ki</td>\n",
       "      <td>nM</td>\n",
       "      <td>3.1</td>\n",
       "    </tr>\n",
       "    <tr>\n",
       "      <th>3</th>\n",
       "      <td>2461400</td>\n",
       "      <td>CHEMBL991887</td>\n",
       "      <td>Binding affinity to GABAA alpha-5-beta-2-gamma...</td>\n",
       "      <td>B</td>\n",
       "      <td>CHEMBL471115</td>\n",
       "      <td>=</td>\n",
       "      <td>nM</td>\n",
       "      <td>369.0</td>\n",
       "      <td>CHEMBL5112</td>\n",
       "      <td>Homo sapiens</td>\n",
       "      <td>Ki</td>\n",
       "      <td>nM</td>\n",
       "      <td>369.0</td>\n",
       "    </tr>\n",
       "    <tr>\n",
       "      <th>4</th>\n",
       "      <td>2461401</td>\n",
       "      <td>CHEMBL991887</td>\n",
       "      <td>Binding affinity to GABAA alpha-5-beta-2-gamma...</td>\n",
       "      <td>B</td>\n",
       "      <td>CHEMBL458321</td>\n",
       "      <td>=</td>\n",
       "      <td>nM</td>\n",
       "      <td>182.0</td>\n",
       "      <td>CHEMBL5112</td>\n",
       "      <td>Homo sapiens</td>\n",
       "      <td>Ki</td>\n",
       "      <td>nM</td>\n",
       "      <td>182.0</td>\n",
       "    </tr>\n",
       "  </tbody>\n",
       "</table>\n",
       "</div>"
      ],
      "text/plain": [
       "   activity_id assay_chembl_id  \\\n",
       "0       816955    CHEMBL680331   \n",
       "1       816955    CHEMBL680331   \n",
       "2      2401385    CHEMBL942244   \n",
       "3      2461400    CHEMBL991887   \n",
       "4      2461401    CHEMBL991887   \n",
       "\n",
       "                                   assay_description assay_type  \\\n",
       "0  Displacement of [3H]-Ro-15-1788 from human GAB...          B   \n",
       "1  Displacement of [3H]-Ro-15-1788 from human GAB...          B   \n",
       "2  Displacement of [3H]Ro-151788 from benzodiazep...          B   \n",
       "3  Binding affinity to GABAA alpha-5-beta-2-gamma...          B   \n",
       "4  Binding affinity to GABAA alpha-5-beta-2-gamma...          B   \n",
       "\n",
       "  molecule_chembl_id relation standard_units standard_value target_chembl_id  \\\n",
       "0        CHEMBL45198        =             nM           33.3       CHEMBL5112   \n",
       "1        CHEMBL45198        =             nM           33.3       CHEMBL5112   \n",
       "2         CHEMBL6597        =             nM            3.1       CHEMBL5112   \n",
       "3       CHEMBL471115        =             nM          369.0       CHEMBL5112   \n",
       "4       CHEMBL458321        =             nM          182.0       CHEMBL5112   \n",
       "\n",
       "  target_organism type units  value  \n",
       "0    Homo sapiens   Ki    nM   33.3  \n",
       "1    Homo sapiens   Ki    nM   33.3  \n",
       "2    Homo sapiens   Ki    nM    3.1  \n",
       "3    Homo sapiens   Ki    nM  369.0  \n",
       "4    Homo sapiens   Ki    nM  182.0  "
      ]
     },
     "execution_count": 2007,
     "metadata": {},
     "output_type": "execute_result"
    }
   ],
   "source": [
    "bioactivities_df = pd.DataFrame.from_records(bioactivities)\n",
    "print(f\"DataFrame shape: {bioactivities_df.shape}\")\n",
    "bioactivities_df.head()"
   ]
  },
  {
   "cell_type": "markdown",
   "id": "30ae91d2",
   "metadata": {},
   "source": [
    "There are columns of \"standard_units/units\" and \"standard_values/values\". Drop the two \"nonstandardized\" columns"
   ]
  },
  {
   "cell_type": "markdown",
   "id": "6080aae7",
   "metadata": {},
   "source": [
    "##### Preprocess and filter bioactivity data\n",
    "1. Convert standard_value's datatype from object to float\n",
    "2. Delete entries with missing values\n",
    "3. Keep only entires with standard_unit == nM\n",
    "4. Delete duplicate molecules\n",
    "5. Reset DataFrame index\n",
    "6. Rename columns"
   ]
  },
  {
   "cell_type": "code",
   "execution_count": 409,
   "id": "c56914f5",
   "metadata": {},
   "outputs": [],
   "source": [
    "def preprocess_bio_df(df):\n",
    "    df_tmp1 = df.copy()\n",
    "    df_tmp1 = df_tmp1.astype({\"standard_value\": \"float64\"})\n",
    "    df_tmp1.dropna(axis=0, how=\"any\", inplace=True)\n",
    "    print(\n",
    "    f\"Number of non-nM entries:\\\n",
    "    {df_tmp1[df_tmp1['standard_units'] != 'nM'].shape[0]}\"\n",
    ")\n",
    "    df_tmp1 = df_tmp1[df_tmp1[\"standard_units\"] == \"nM\"]\n",
    "    print(f\"Units after filtering: {df_tmp1['standard_units'].unique()}\")\n",
    "    \n",
    "    df_group = df_tmp1[[\"molecule_chembl_id\",\"standard_value\"]].groupby(\"molecule_chembl_id\").mean()\n",
    "    #df_group.reset_index(drop=True, inplace=True)\n",
    "    \n",
    "    #df_unique = df_tmp1[[\"molecule_chembl_id\",\"standard_value\",\"standard_units\",\"type\"]]\n",
    "    df_tmp1.drop_duplicates(\"molecule_chembl_id\", keep=\"first\", inplace=True)\n",
    "    \n",
    "    df_tmp1.reset_index(drop=True, inplace=True)\n",
    "    \n",
    "    # merge df_unique and df_group by \"molecule_chembl_id\"\n",
    "    output_df = pd.merge(\n",
    "        df_tmp1,\n",
    "        df_group,\n",
    "        on=\"molecule_chembl_id\",\n",
    "    )\n",
    "\n",
    "    # Reset row indices\n",
    "    output_df[\"mean_standard_value\"] = output_df[\"standard_value_y\"]\n",
    "    output_df.reset_index(drop=True, inplace=True)\n",
    "    return output_df  "
   ]
  },
  {
   "cell_type": "code",
   "execution_count": 2008,
   "id": "c0cf363a",
   "metadata": {},
   "outputs": [
    {
     "name": "stdout",
     "output_type": "stream",
     "text": [
      "Number of non-nM entries:    0\n",
      "Units after filtering: ['nM']\n",
      "409\n"
     ]
    },
    {
     "data": {
      "text/html": [
       "<div>\n",
       "<style scoped>\n",
       "    .dataframe tbody tr th:only-of-type {\n",
       "        vertical-align: middle;\n",
       "    }\n",
       "\n",
       "    .dataframe tbody tr th {\n",
       "        vertical-align: top;\n",
       "    }\n",
       "\n",
       "    .dataframe thead th {\n",
       "        text-align: right;\n",
       "    }\n",
       "</style>\n",
       "<table border=\"1\" class=\"dataframe\">\n",
       "  <thead>\n",
       "    <tr style=\"text-align: right;\">\n",
       "      <th></th>\n",
       "      <th>activity_id</th>\n",
       "      <th>assay_chembl_id</th>\n",
       "      <th>assay_description</th>\n",
       "      <th>assay_type</th>\n",
       "      <th>molecule_chembl_id</th>\n",
       "      <th>relation</th>\n",
       "      <th>standard_units</th>\n",
       "      <th>standard_value_x</th>\n",
       "      <th>target_chembl_id</th>\n",
       "      <th>target_organism</th>\n",
       "      <th>type</th>\n",
       "      <th>units</th>\n",
       "      <th>value</th>\n",
       "      <th>standard_value_y</th>\n",
       "      <th>mean_standard_value</th>\n",
       "    </tr>\n",
       "  </thead>\n",
       "  <tbody>\n",
       "    <tr>\n",
       "      <th>0</th>\n",
       "      <td>816955</td>\n",
       "      <td>CHEMBL680331</td>\n",
       "      <td>Displacement of [3H]-Ro-15-1788 from human GAB...</td>\n",
       "      <td>B</td>\n",
       "      <td>CHEMBL45198</td>\n",
       "      <td>=</td>\n",
       "      <td>nM</td>\n",
       "      <td>33.3</td>\n",
       "      <td>CHEMBL5112</td>\n",
       "      <td>Homo sapiens</td>\n",
       "      <td>Ki</td>\n",
       "      <td>nM</td>\n",
       "      <td>33.3</td>\n",
       "      <td>33.3</td>\n",
       "      <td>33.3</td>\n",
       "    </tr>\n",
       "    <tr>\n",
       "      <th>1</th>\n",
       "      <td>2401385</td>\n",
       "      <td>CHEMBL942244</td>\n",
       "      <td>Displacement of [3H]Ro-151788 from benzodiazep...</td>\n",
       "      <td>B</td>\n",
       "      <td>CHEMBL6597</td>\n",
       "      <td>=</td>\n",
       "      <td>nM</td>\n",
       "      <td>3.1</td>\n",
       "      <td>CHEMBL5112</td>\n",
       "      <td>Homo sapiens</td>\n",
       "      <td>Ki</td>\n",
       "      <td>nM</td>\n",
       "      <td>3.1</td>\n",
       "      <td>3.1</td>\n",
       "      <td>3.1</td>\n",
       "    </tr>\n",
       "  </tbody>\n",
       "</table>\n",
       "</div>"
      ],
      "text/plain": [
       "   activity_id assay_chembl_id  \\\n",
       "0       816955    CHEMBL680331   \n",
       "1      2401385    CHEMBL942244   \n",
       "\n",
       "                                   assay_description assay_type  \\\n",
       "0  Displacement of [3H]-Ro-15-1788 from human GAB...          B   \n",
       "1  Displacement of [3H]Ro-151788 from benzodiazep...          B   \n",
       "\n",
       "  molecule_chembl_id relation standard_units  standard_value_x  \\\n",
       "0        CHEMBL45198        =             nM              33.3   \n",
       "1         CHEMBL6597        =             nM               3.1   \n",
       "\n",
       "  target_chembl_id target_organism type units value  standard_value_y  \\\n",
       "0       CHEMBL5112    Homo sapiens   Ki    nM  33.3              33.3   \n",
       "1       CHEMBL5112    Homo sapiens   Ki    nM   3.1               3.1   \n",
       "\n",
       "   mean_standard_value  \n",
       "0                 33.3  \n",
       "1                  3.1  "
      ]
     },
     "execution_count": 2008,
     "metadata": {},
     "output_type": "execute_result"
    }
   ],
   "source": [
    "bio_df_preprocessed = preprocess_bio_df(bioactivities_df)\n",
    "\n",
    "print(bio_df_preprocessed.shape[0])\n",
    "bio_df_preprocessed.head(2)"
   ]
  },
  {
   "cell_type": "markdown",
   "id": "5e02b920",
   "metadata": {},
   "source": [
    "##### Fetch compound data from ChEMBL"
   ]
  },
  {
   "cell_type": "markdown",
   "id": "0c5956a1",
   "metadata": {},
   "source": [
    "Example of a molecule entries"
   ]
  },
  {
   "cell_type": "code",
   "execution_count": null,
   "id": "c88e0f7a",
   "metadata": {},
   "outputs": [],
   "source": [
    "# Get molecule by ChEMBL ID\n",
    "#molecule = new_client.molecule.get('CHEMBL4084262')\n",
    "#molecule"
   ]
  },
  {
   "cell_type": "markdown",
   "id": "3747a40d",
   "metadata": {},
   "source": [
    "For the compounds which we have defined bioactivity data for, fetch the compound ChEMBL IDs, structures, and molecular properties"
   ]
  },
  {
   "cell_type": "code",
   "execution_count": 2009,
   "id": "c8c8f009",
   "metadata": {},
   "outputs": [
    {
     "name": "stderr",
     "output_type": "stream",
     "text": [
      "100%|██████████| 409/409 [00:21<00:00, 19.33it/s]"
     ]
    },
    {
     "name": "stdout",
     "output_type": "stream",
     "text": [
      "DataFrame shape: (409, 3)\n",
      "DataFrame shape: (409, 3)\n",
      "DataFrame shape: (409, 3)\n"
     ]
    },
    {
     "name": "stderr",
     "output_type": "stream",
     "text": [
      "\n"
     ]
    }
   ],
   "source": [
    "compounds_provider = compounds_api.filter(\n",
    "    molecule_chembl_id__in=list(bio_df_preprocessed[\"molecule_chembl_id\"])\n",
    ").only(\"molecule_chembl_id\", \"molecule_structures\", \"molecule_properties\")\n",
    "\n",
    "compounds = list(tqdm(compounds_provider))\n",
    "\n",
    "compounds_df = pd.DataFrame.from_records(\n",
    "    compounds,\n",
    ")\n",
    "print(f\"DataFrame shape: {compounds_df.shape}\")\n",
    "\n",
    "# Remove entires with missing molecule structure entry\n",
    "compounds_df.dropna(axis=0, how=\"any\", inplace=True)\n",
    "print(f\"DataFrame shape: {compounds_df.shape}\")\n",
    "\n",
    "# Delete duplicate molecule\n",
    "compounds_df.drop_duplicates(\"molecule_chembl_id\", keep=\"first\", inplace=True)\n",
    "print(f\"DataFrame shape: {compounds_df.shape}\")"
   ]
  },
  {
   "cell_type": "markdown",
   "id": "9d085f66",
   "metadata": {},
   "source": [
    "* Multiple molecular structure representations. Only keep the 'canonical_smiles' *"
   ]
  },
  {
   "cell_type": "code",
   "execution_count": null,
   "id": "e2bc36de",
   "metadata": {},
   "outputs": [],
   "source": [
    "#compounds_df.iloc[0].molecule_structures.keys()"
   ]
  },
  {
   "cell_type": "markdown",
   "id": "7fcb6568",
   "metadata": {},
   "source": [
    "* Multiple molecule_properties. Only keep the 'alogp' *"
   ]
  },
  {
   "cell_type": "code",
   "execution_count": null,
   "id": "c7217388",
   "metadata": {},
   "outputs": [],
   "source": [
    "#compounds_df.iloc[0].molecule_properties.keys()"
   ]
  },
  {
   "cell_type": "code",
   "execution_count": 2010,
   "id": "c93906a2",
   "metadata": {},
   "outputs": [
    {
     "name": "stdout",
     "output_type": "stream",
     "text": [
      "DataFrame shape: (409, 4)\n",
      "DataFrame shape: (409, 4)\n"
     ]
    }
   ],
   "source": [
    "compounds_preprocessed = compounds_df.copy()\n",
    "\n",
    "canonical_smiles = []\n",
    "alogp = []\n",
    "MW = []\n",
    "\n",
    "for i, compounds in compounds_preprocessed.iterrows():\n",
    "    try:\n",
    "        canonical_smiles.append(compounds[\"molecule_structures\"][\"canonical_smiles\"])\n",
    "        alogp.append(compounds[\"molecule_properties\"][\"alogp\"])\n",
    "        MW.append(compounds[\"molecule_properties\"][\"full_mwt\"])\n",
    "    except KeyError:\n",
    "        canonical_smiles.append(None)\n",
    "        alogp.append(None)\n",
    "\n",
    "compounds_preprocessed[\"canonical_smiles\"] =canonical_smiles\n",
    "compounds_preprocessed[\"alogp\"] =alogp\n",
    "compounds_preprocessed[\"MW\"] =MW\n",
    "compounds_preprocessed = compounds_preprocessed.astype({\"MW\": \"float64\"})\n",
    "\n",
    "compounds_preprocessed.drop([\"molecule_structures\",\"molecule_properties\"], axis=1, inplace=True)\n",
    "print(f\"DataFrame shape: {compounds_preprocessed.shape}\")\n",
    "\n",
    "compounds_preprocessed.dropna(axis=0, how=\"any\", inplace=True)\n",
    "print(f\"DataFrame shape: {compounds_preprocessed.shape}\")"
   ]
  },
  {
   "cell_type": "markdown",
   "id": "0498e95d",
   "metadata": {},
   "source": [
    "#### Output (bioactivity-compound) data\n",
    "\n",
    "##### Summary of compound and bioactivity data"
   ]
  },
  {
   "cell_type": "code",
   "execution_count": 1507,
   "id": "4206776f",
   "metadata": {},
   "outputs": [
    {
     "name": "stdout",
     "output_type": "stream",
     "text": [
      "Bioactivities filtered: 80\n"
     ]
    },
    {
     "data": {
      "text/plain": [
       "Index(['activity_id', 'assay_chembl_id', 'assay_description', 'assay_type',\n",
       "       'molecule_chembl_id', 'relation', 'standard_units', 'standard_value_x',\n",
       "       'target_chembl_id', 'target_organism', 'type', 'units', 'value',\n",
       "       'standard_value_y', 'mean_standard_value'],\n",
       "      dtype='object')"
      ]
     },
     "execution_count": 1507,
     "metadata": {},
     "output_type": "execute_result"
    }
   ],
   "source": [
    "print(f\"Bioactivities filtered: {bio_df_preprocessed.shape[0]}\")\n",
    "bio_df_preprocessed.columns"
   ]
  },
  {
   "cell_type": "code",
   "execution_count": 1508,
   "id": "619405d7",
   "metadata": {},
   "outputs": [
    {
     "name": "stdout",
     "output_type": "stream",
     "text": [
      "Compounds filtered: 80\n"
     ]
    },
    {
     "data": {
      "text/plain": [
       "Index(['molecule_chembl_id', 'canonical_smiles', 'alogp', 'MW'], dtype='object')"
      ]
     },
     "execution_count": 1508,
     "metadata": {},
     "output_type": "execute_result"
    }
   ],
   "source": [
    "print(f\"Compounds filtered: {compounds_preprocessed.shape[0]}\")\n",
    "compounds_preprocessed.columns"
   ]
  },
  {
   "cell_type": "markdown",
   "id": "7ed9d967",
   "metadata": {},
   "source": [
    "##### Merge both datasets\n",
    "Merge values of interest from 'bio_df_preprocessed' and 'compounds_preprocessed' in an 'output_df' based on the compounds \"ChEMBL IDs\" (molecule_chembl_id), keeping the following columns\n",
    "* ChEMBL IDs: ('molecule_chembl_id')\n",
    "* SMILES: ('canonical_smiles')\n",
    "* Units: ('standard_units')\n",
    "* Bioactivity data: IC50 or Ki ('standard_value')"
   ]
  },
  {
   "cell_type": "code",
   "execution_count": 2011,
   "id": "3c5dde83",
   "metadata": {},
   "outputs": [
    {
     "name": "stdout",
     "output_type": "stream",
     "text": [
      "Dataset with 409 entries.\n"
     ]
    }
   ],
   "source": [
    "# Merge DataFrames\n",
    "output_df = pd.merge(\n",
    "    bio_df_preprocessed[[\"molecule_chembl_id\", \"mean_standard_value\", \"standard_units\",\"type\"]],\n",
    "    compounds_preprocessed,\n",
    "    on=\"molecule_chembl_id\",\n",
    ")\n",
    "\n",
    "# Reset row indices\n",
    "output_df = output_df[output_df['mean_standard_value']>0]\n",
    "output_df = output_df[output_df['MW']<=900]\n",
    "output_df.reset_index(drop=True, inplace=True)\n",
    "\n",
    "print(f\"Dataset with {output_df.shape[0]} entries.\")"
   ]
  },
  {
   "cell_type": "markdown",
   "id": "70313e4d",
   "metadata": {},
   "source": [
    "##### Add pKi or pIC50 values\n",
    "Low IC50 and Ki values are difficult to read (values are distributed over multiple scales), so we converted to log scale"
   ]
  },
  {
   "cell_type": "markdown",
   "id": "5f8064dd",
   "metadata": {},
   "source": [
    "##### Save dataset"
   ]
  },
  {
   "cell_type": "code",
   "execution_count": 2012,
   "id": "c55d659a",
   "metadata": {},
   "outputs": [],
   "source": [
    "# Apply conversion to each row of the DataFrame\n",
    "output_df[\"p\"+bioassay_type]=output_df.apply(lambda x: convert_to_logp(x.mean_standard_value), axis=1)\n",
    "\n",
    "output_df.to_csv(path+Name+\"_\"+uniprot_id+\"_\"+bioassay_type+\".csv\",index=False)"
   ]
  },
  {
   "cell_type": "markdown",
   "id": "36b8e041",
   "metadata": {},
   "source": [
    "### Collect data for decoys\n",
    "\n",
    "##### DUDE (http://dude.docking.org/)\n",
    "Mysinger MM, Carchia M, Irwin JJ, Shoichet BK J. Med. Chem., 2012, Jul 5. doi 10.1021/jm300687e.\n",
    "* Convert to canonical smiles use RDKit Chem MolToSmiles"
   ]
  },
  {
   "cell_type": "code",
   "execution_count": 3,
   "id": "2ae37782",
   "metadata": {},
   "outputs": [],
   "source": [
    "from rdkit import Chem\n",
    "#from rdkit.Chem import Draw"
   ]
  },
  {
   "cell_type": "code",
   "execution_count": null,
   "id": "9027b0e1",
   "metadata": {},
   "outputs": [],
   "source": [
    "#mol = [Chem.MolFromSmiles(smi) for smi in smis]\n",
    "#Draw.MolsToGridImage(mol)"
   ]
  },
  {
   "cell_type": "code",
   "execution_count": null,
   "id": "aed96e2c",
   "metadata": {},
   "outputs": [],
   "source": [
    "def create_decoy_df(input_file):\n",
    "    decoy_df = pd.DataFrame()\n",
    "    with open(input_file,'r') as f:\n",
    "        lines = f.readlines()\n",
    "        SMI = []\n",
    "        for i in range(len(lines)):\n",
    "            SMI.append(lines[i].split()[0])\n",
    "        \n",
    "    decoy_df[\"SMILES\"] = SMI\n",
    "    \n",
    "    return decoy_df"
   ]
  },
  {
   "cell_type": "code",
   "execution_count": null,
   "id": "63406c64",
   "metadata": {},
   "outputs": [],
   "source": [
    "DUDE_path = \"/Users/hek/Research/Cheminformatics/DUDE database/\"\n",
    "Decoy_path = DUDE_path + \"Decoys/\"\n",
    "\n",
    "target_list = pd.read_csv(DUDE_path+\"DUDE Target list.csv\")\n",
    "targets = target_list[\"Target\"]"
   ]
  },
  {
   "cell_type": "markdown",
   "id": "37748baf",
   "metadata": {},
   "source": [
    "* Change the decoy smiles.txt file to csv"
   ]
  },
  {
   "cell_type": "code",
   "execution_count": null,
   "id": "4a15a09e",
   "metadata": {},
   "outputs": [],
   "source": [
    "for target in targets:\n",
    "    #print(DUDE_path+target+\"/decoys_final.ism\")\n",
    "    input_file = DUDE_path+target+\"/decoys_final.ism\"\n",
    "    \n",
    "    decoy_df = create_decoy_df(input_file)\n",
    "    #decoy_df[\"canonical smiles\"] = [Chem.MolToSmiles(Chem.MolFromSmiles(smi),True) for smi in decoy_df[\"SMILES\"]]\n",
    "    decoy_df.to_csv(Decoy_path+target+\".csv\",index=False)"
   ]
  },
  {
   "cell_type": "code",
   "execution_count": null,
   "id": "05a91acd",
   "metadata": {},
   "outputs": [],
   "source": [
    "for target in targets[103:104]:\n",
    "    print(target)\n",
    "    #print(Decoy_path+target+\".csv\")\n",
    "    input_file = Decoy_path+target+\".csv\"\n",
    "    df = pd.read_csv(input_file)\n",
    "    #print(df.shape[0])\n",
    "    Can_smi = []\n",
    "    for i in range(df.shape[0]):\n",
    "        print(i)\n",
    "        #print(df.loc[i,\"SMILES\"])\n",
    "        smi = df.loc[i,\"SMILES\"]\n",
    "        Can_smi.append(Chem.MolToSmiles(Chem.MolFromSmiles(smi),True))\n",
    "    df[\"Canonical smiles\"] = Can_smi\n",
    "    \n",
    "    df.to_csv(input_file,index=False)"
   ]
  },
  {
   "cell_type": "markdown",
   "id": "3ea8f8e1",
   "metadata": {},
   "source": [
    "* Merged decoy dataset"
   ]
  },
  {
   "cell_type": "code",
   "execution_count": null,
   "id": "4705e9a6",
   "metadata": {},
   "outputs": [],
   "source": [
    "df_list = []\n",
    "for target in targets:\n",
    "    input_file = Decoy_path+target+\".csv\"\n",
    "    df_list.append(pd.read_csv(input_file))\n",
    "    \n",
    "    df_merge = pd.concat(df_list, axis=0) "
   ]
  },
  {
   "cell_type": "code",
   "execution_count": null,
   "id": "7993ce9b",
   "metadata": {},
   "outputs": [],
   "source": [
    "df_merge.shape"
   ]
  },
  {
   "cell_type": "code",
   "execution_count": null,
   "id": "bdfb0d63",
   "metadata": {},
   "outputs": [],
   "source": [
    "df_merge.drop_duplicates(\"Canonical smiles\", keep=\"first\", inplace=True)\n",
    "df_merge.shape"
   ]
  },
  {
   "cell_type": "code",
   "execution_count": null,
   "id": "f09b5d83",
   "metadata": {},
   "outputs": [],
   "source": [
    "df_merge.to_csv(Decoy_path+\"Merged DUD Decoys with canonical smiles.csv\",index=False)"
   ]
  },
  {
   "cell_type": "markdown",
   "id": "27315aba",
   "metadata": {},
   "source": [
    "### Actives Aquisition\n",
    "* Canonical SMILES use RDKit\n",
    "* Physico-chemical properties: MW, xlogP, H-bond donors, H-bond acceptors, nrotb, net molecular charge\n",
    "* Molecular fingerprint: MORGAN (ECFP4, radius 2, 2048 bit)"
   ]
  },
  {
   "cell_type": "code",
   "execution_count": 4,
   "id": "0a5a6427",
   "metadata": {},
   "outputs": [],
   "source": [
    "from rdkit import Chem, DataStructs\n",
    "from rdkit.Chem import (\n",
    "    PandasTools,\n",
    "    Draw,\n",
    "    Descriptors,\n",
    "    MACCSkeys,\n",
    "    rdFingerprintGenerator,\n",
    "    AllChem\n",
    ")"
   ]
  },
  {
   "cell_type": "markdown",
   "id": "80586cc8",
   "metadata": {},
   "source": [
    "##### Check whether SMILES are canonicalized"
   ]
  },
  {
   "cell_type": "code",
   "execution_count": 277,
   "id": "e129e09e",
   "metadata": {},
   "outputs": [],
   "source": [
    "def check_canonicalization(df):\n",
    "    for i in range(df.shape[0]):\n",
    "        smi = df.loc[i,\"canonical_smiles\"]\n",
    "        rdksmi = Chem.MolToSmiles(Chem.MolFromSmiles(smi),True)\n",
    "        assert smi == rdksmi"
   ]
  },
  {
   "cell_type": "code",
   "execution_count": 2013,
   "id": "af4e2dae",
   "metadata": {},
   "outputs": [
    {
     "name": "stdout",
     "output_type": "stream",
     "text": [
      "GABAalpha5_P31644_Ki.csv\n"
     ]
    }
   ],
   "source": [
    "#filename = \"CB1_P47746_Ki.csv\"\n",
    "filename = Name+\"_\"+uniprot_id+\"_\"+bioassay_type+\".csv\"\n",
    "print(filename)\n",
    "df = pd.read_csv(path+filename)\n",
    "\n",
    "check_canonicalization(df)"
   ]
  },
  {
   "cell_type": "markdown",
   "id": "e09a3f03",
   "metadata": {},
   "source": [
    "##### Active labeling using pKI or pIC50\n",
    "cut-off value used:\n",
    "* 5 = which is equivalent to 10000 nM (or 10 μM)\n",
    "* 6 = which is equivalent to 1000 nM (or 1 μM)\n",
    "* 7 = which is equivalent to 100 nM (or 0.1 μM)"
   ]
  },
  {
   "cell_type": "code",
   "execution_count": 1791,
   "id": "82bb86fa",
   "metadata": {},
   "outputs": [],
   "source": [
    "def get_actives(df,active_type,thres):\n",
    "    # Add column for bioactivity\n",
    "    df[\"active\"] = np.zeros(len(df))\n",
    "    print(df.shape[0])\n",
    "    # Mark every molecule as active with an activity pvalue of >=5.0, 6.0, 7.0, 0 as inactive otherwise\n",
    "    df.loc[df[df[active_type] >= thres].index, \"active\"] = 1.0\n",
    "    \n",
    "    # Check output\n",
    "    print(\"Number of active compounds:\", int(df.active.sum()))\n",
    "    #print(\"Number of inactive compounds:\", len(df) - int(df.active.sum()))\n",
    "    \n",
    "    # Subset only the active and reindex\n",
    "    df_active = df[df[\"active\"] == 1.0]\n",
    "    #print(df_active.shape[0])\n",
    "    \n",
    "    # Save the active subset\n",
    "    df_active.to_csv(path+\"Actives >= \"+str(thres)+\" \"+filename,index=False)"
   ]
  },
  {
   "cell_type": "code",
   "execution_count": 2014,
   "id": "044784dc",
   "metadata": {},
   "outputs": [
    {
     "name": "stdout",
     "output_type": "stream",
     "text": [
      "Ki\n",
      "409\n",
      "Number of active compounds: 409\n",
      "409\n",
      "Number of active compounds: 405\n",
      "409\n",
      "Number of active compounds: 400\n"
     ]
    }
   ],
   "source": [
    "print(bioassay_type)\n",
    "get_actives(df,\"p\"+bioassay_type,5.0)\n",
    "get_actives(df,\"p\"+bioassay_type,6.0)\n",
    "get_actives(df,\"p\"+bioassay_type,7.0)"
   ]
  },
  {
   "cell_type": "markdown",
   "id": "970dfca7",
   "metadata": {},
   "source": [
    "##### Check all active files are created"
   ]
  },
  {
   "cell_type": "code",
   "execution_count": 2067,
   "id": "9ad6aebb",
   "metadata": {},
   "outputs": [],
   "source": [
    "df_list = pd.read_excel(path+\"Target - Assays - Model list.xlsx\")"
   ]
  },
  {
   "cell_type": "code",
   "execution_count": 2073,
   "id": "6ff44130",
   "metadata": {},
   "outputs": [],
   "source": [
    "targets = df_list.Target\n",
    "UniProtKB = df_list.UniProtKB\n",
    "Act_type = df_list.Activity_type"
   ]
  },
  {
   "cell_type": "code",
   "execution_count": 2094,
   "id": "2d37647a",
   "metadata": {},
   "outputs": [],
   "source": [
    "def check_active_files(df):\n",
    "    count = 0\n",
    "    for i in range(df.shape[0]):\n",
    "        target = df.loc[i,\"Target\"]\n",
    "        UniProtKB = df.loc[i,'UniProtKB']\n",
    "        Act_type = df.loc[i,'Activity_type']\n",
    "        filename = \"Actives >= 7.0 \"+target+'_'+UniProtKB+'_'+Act_type+'.csv'\n",
    "        print(filename)\n",
    "        df_tmp = pd.read_csv(path+filename)\n",
    "        #print(\"nunique compounds\", df_tmp.shape[0])\n",
    "        #df_tmp.shape[0] == df.loc[i,'N_actives_p5']\n",
    "        if df_tmp.shape[0] >= 50:\n",
    "            count += 1\n",
    "    print(count)"
   ]
  },
  {
   "cell_type": "code",
   "execution_count": 2095,
   "id": "6c67f995",
   "metadata": {},
   "outputs": [
    {
     "name": "stdout",
     "output_type": "stream",
     "text": [
      "Actives >= 7.0 CB1_P21554_Ki.csv\n",
      "Actives >= 7.0 CB1_P21554_EC50.csv\n",
      "Actives >= 7.0 CB1_P21554_IC50.csv\n",
      "Actives >= 7.0 CB1_P20272_Ki.csv\n",
      "Actives >= 7.0 CB1_P20272_IC50.csv\n",
      "Actives >= 7.0 CB1_P47746_Ki.csv\n",
      "Actives >= 7.0 CB1_P47746_IC50.csv\n",
      "Actives >= 7.0 CB2_P34972_Ki.csv\n",
      "Actives >= 7.0 CB2_P34972_EC50.csv\n",
      "Actives >= 7.0 CB2_P34972_IC50.csv\n",
      "Actives >= 7.0 CB2_Q9QZN9_Ki.csv\n",
      "Actives >= 7.0 CB2_P47936_Ki.csv\n",
      "Actives >= 7.0 5HT1A_P08908_Ki.csv\n",
      "Actives >= 7.0 5HT1A_P08908_EC50.csv\n",
      "Actives >= 7.0 5HT1A_P08908_IC50.csv\n",
      "Actives >= 7.0 5HT1A_P19327_Ki.csv\n",
      "Actives >= 7.0 5HT1A_P19327_IC50.csv\n",
      "Actives >= 7.0 5HT1B_P28222_Ki.csv\n",
      "Actives >= 7.0 5HT1B_P28222_IC50.csv\n",
      "Actives >= 7.0 5HT1B_P28564_IC50.csv\n",
      "Actives >= 7.0 5HT1B_P28564_Ki.csv\n",
      "Actives >= 7.0 5HT1D_P28221_Ki.csv\n",
      "Actives >= 7.0 5HT1D_P28221_IC50.csv\n",
      "Actives >= 7.0 5HT1F_P30939_Ki.csv\n",
      "Actives >= 7.0 5HT2A_P28223_Ki.csv\n",
      "Actives >= 7.0 5HT2A_P28223_IC50.csv\n",
      "Actives >= 7.0 5HT2A_P28223_EC50.csv\n",
      "Actives >= 7.0 5HT2C_P28335_Ki.csv\n",
      "Actives >= 7.0 5HT2C_P28335_IC50.csv\n",
      "Actives >= 7.0 5HT2C_P28335_EC50.csv\n",
      "Actives >= 7.0 5HT2C_P08909_Ki.csv\n",
      "Actives >= 7.0 5HT3A_P46098_Ki.csv\n",
      "Actives >= 7.0 5HT3A_P46098_IC50.csv\n",
      "Actives >= 7.0 5HT3A_P35563_Ki.csv\n",
      "Actives >= 7.0 5HT5A_P47898_Ki.csv\n",
      "Actives >= 7.0 5HT6_P50406_Ki.csv\n",
      "Actives >= 7.0 5HT6_P50406_IC50.csv\n",
      "Actives >= 7.0 5HT7_P34969_Ki.csv\n",
      "Actives >= 7.0 5HT7_P34969_IC50.csv\n",
      "Actives >= 7.0 5HT7_P32305_Ki.csv\n",
      "Actives >= 7.0 SERT_P31645_IC50.csv\n",
      "Actives >= 7.0 SERT_P31645_Ki.csv\n",
      "Actives >= 7.0 SERT_P31652_Ki.csv\n",
      "Actives >= 7.0 SERT_P31652_IC50.csv\n",
      "Actives >= 7.0 D1_P21728_Ki.csv\n",
      "Actives >= 7.0 D1_P21728_IC50.csv\n",
      "Actives >= 7.0 D1_P21728_EC50.csv\n",
      "Actives >= 7.0 D1_P18901_Ki.csv\n",
      "Actives >= 7.0 D1_P18901_IC50.csv\n",
      "Actives >= 7.0 D2_P14416_Ki.csv\n",
      "Actives >= 7.0 D2_P14416_IC50.csv\n",
      "Actives >= 7.0 D2_P14416_EC50.csv\n",
      "Actives >= 7.0 D2_P61169_Ki.csv\n",
      "Actives >= 7.0 D2_P61169_IC50.csv\n",
      "Actives >= 7.0 D2_P61168_IC50.csv\n",
      "Actives >= 7.0 D3_P35462_Ki.csv\n",
      "Actives >= 7.0 D3_P35462_IC50.csv\n",
      "Actives >= 7.0 D3_P35462_EC50.csv\n",
      "Actives >= 7.0 D3_P19020_Ki.csv\n",
      "Actives >= 7.0 D3_P19020_IC50.csv\n",
      "Actives >= 7.0 D4_P21917_Ki.csv\n",
      "Actives >= 7.0 D4_P21917_IC50.csv\n",
      "Actives >= 7.0 D4_P30729_Ki.csv\n",
      "Actives >= 7.0 D5_P21918_Ki.csv\n",
      "Actives >= 7.0 DAT_Q01959_Ki.csv\n",
      "Actives >= 7.0 DAT_Q01959_IC50.csv\n",
      "Actives >= 7.0 DAT_P23977_Ki.csv\n",
      "Actives >= 7.0 DAT_P23977_IC50.csv\n",
      "Actives >= 7.0 alpha1A_P35348_Ki.csv\n",
      "Actives >= 7.0 alpha1A_P35348_IC50.csv\n",
      "Actives >= 7.0 alpha1A_P43140_Ki.csv\n",
      "Actives >= 7.0 alpha1A_P43140_IC50.csv\n",
      "Actives >= 7.0 alpha1B_P35368_Ki.csv\n",
      "Actives >= 7.0 alpha1B_P35368_IC50.csv\n",
      "Actives >= 7.0 alpha1B_P15823_Ki.csv\n",
      "Actives >= 7.0 alpha1B_P15823_IC50.csv\n",
      "Actives >= 7.0 alpha2A_P08913_Ki.csv\n",
      "Actives >= 7.0 alpha2A_P08913_IC50.csv\n",
      "Actives >= 7.0 alpha2B_P18089_Ki.csv\n",
      "Actives >= 7.0 alpha2B_P18089_IC50.csv\n",
      "Actives >= 7.0 alpha2C_P18825_Ki.csv\n",
      "Actives >= 7.0 alpha2C_P18825_IC50.csv\n",
      "Actives >= 7.0 beta1_P08588_Ki.csv\n",
      "Actives >= 7.0 beta1_P08588_IC50.csv\n",
      "Actives >= 7.0 beta1_P18090_Ki.csv\n",
      "Actives >= 7.0 beta2_P07550_Ki.csv\n",
      "Actives >= 7.0 beta2_P07550_IC50.csv\n",
      "Actives >= 7.0 beta2_P07550_EC50.csv\n",
      "Actives >= 7.0 beta3_P13945_Ki.csv\n",
      "Actives >= 7.0 beta3_P13945_EC50.csv\n",
      "Actives >= 7.0 NET_P23975_Ki.csv\n",
      "Actives >= 7.0 NET_P23975_IC50.csv\n",
      "Actives >= 7.0 H1_P35367_Ki.csv\n",
      "Actives >= 7.0 H1_P35367_IC50.csv\n",
      "Actives >= 7.0 H1_P31390_Ki.csv\n",
      "Actives >= 7.0 H2_P25021_Ki.csv\n",
      "Actives >= 7.0 H2_P25021_IC50.csv\n",
      "Actives >= 7.0 H3_Q9Y5N1_Ki.csv\n",
      "Actives >= 7.0 H3_Q9Y5N1_IC50.csv\n",
      "Actives >= 7.0 H3_Q9Y5N1_EC50.csv\n",
      "Actives >= 7.0 H3_Q9QYN8_Ki.csv\n",
      "Actives >= 7.0 H3_P58406_Ki.csv\n",
      "Actives >= 7.0 H4_Q9H3N8_Ki.csv\n",
      "Actives >= 7.0 kappa_P41145_Ki.csv\n",
      "Actives >= 7.0 kappa_P41145_IC50.csv\n",
      "Actives >= 7.0 kappa_P41145_EC50.csv\n",
      "Actives >= 7.0 kappa_P34975_Ki.csv\n",
      "Actives >= 7.0 kappa_P33534_Ki.csv\n",
      "Actives >= 7.0 mu_P35372_Ki.csv\n",
      "Actives >= 7.0 mu_P35372_IC50.csv\n",
      "Actives >= 7.0 mu_P35372_EC50.csv\n",
      "Actives >= 7.0 mu_P33535_Ki.csv\n",
      "Actives >= 7.0 mu_P33535_IC50.csv\n",
      "Actives >= 7.0 mu_P33535_EC50.csv\n",
      "Actives >= 7.0 mu_P42866_Ki.csv\n",
      "Actives >= 7.0 mu_P42866_IC50.csv\n",
      "Actives >= 7.0 delta_P41143_Ki.csv\n",
      "Actives >= 7.0 delta_P41143_IC50.csv\n",
      "Actives >= 7.0 delta_P41143_EC50.csv\n",
      "Actives >= 7.0 delta_P33533_Ki.csv\n",
      "Actives >= 7.0 delta_P33533_IC50.csv\n",
      "Actives >= 7.0 delta_P32300_Ki.csv\n",
      "Actives >= 7.0 delta_P32300_IC50.csv\n",
      "Actives >= 7.0 S1_Q99720_Ki.csv\n",
      "Actives >= 7.0 S1_Q99720_IC50.csv\n",
      "Actives >= 7.0 S1_Q9R0C9_Ki.csv\n",
      "Actives >= 7.0 S1_Q9R0C9_IC50.csv\n",
      "Actives >= 7.0 S1_O55242_Ki.csv\n",
      "Actives >= 7.0 S2_Q5BJF2_Ki.csv\n",
      "Actives >= 7.0 S2_Q5U3Y7_Ki.csv\n",
      "Actives >= 7.0 GABAalpha2_P47869_Ki.csv\n",
      "Actives >= 7.0 GABAalpha5_P31644_Ki.csv\n",
      "116\n"
     ]
    }
   ],
   "source": [
    "check_active_files(df_list)"
   ]
  },
  {
   "cell_type": "markdown",
   "id": "66ea6049",
   "metadata": {},
   "source": [
    "### Caclulate molecular properties of Ro5\n",
    "* MW <= 500\n",
    "* Number of hydrogen bond acceptors (HBAs) <= 10\n",
    "* Number of hydrogen bond donors (HBDs) <= 5\n",
    "* Calculated LogP (octanol-water coefficient) <= 5"
   ]
  },
  {
   "cell_type": "code",
   "execution_count": 286,
   "id": "0628f67d",
   "metadata": {},
   "outputs": [
    {
     "data": {
      "text/html": [
       "<div>\n",
       "<style scoped>\n",
       "    .dataframe tbody tr th:only-of-type {\n",
       "        vertical-align: middle;\n",
       "    }\n",
       "\n",
       "    .dataframe tbody tr th {\n",
       "        vertical-align: top;\n",
       "    }\n",
       "\n",
       "    .dataframe thead th {\n",
       "        text-align: right;\n",
       "    }\n",
       "</style>\n",
       "<table border=\"1\" class=\"dataframe\">\n",
       "  <thead>\n",
       "    <tr style=\"text-align: right;\">\n",
       "      <th></th>\n",
       "      <th>MW</th>\n",
       "      <th>n_hba</th>\n",
       "      <th>n_hbd</th>\n",
       "      <th>alogp</th>\n",
       "    </tr>\n",
       "  </thead>\n",
       "  <tbody>\n",
       "    <tr>\n",
       "      <th>0</th>\n",
       "      <td>456.93</td>\n",
       "      <td>4</td>\n",
       "      <td>2</td>\n",
       "      <td>4.20</td>\n",
       "    </tr>\n",
       "    <tr>\n",
       "      <th>1</th>\n",
       "      <td>520.96</td>\n",
       "      <td>4</td>\n",
       "      <td>1</td>\n",
       "      <td>5.13</td>\n",
       "    </tr>\n",
       "  </tbody>\n",
       "</table>\n",
       "</div>"
      ],
      "text/plain": [
       "       MW  n_hba  n_hbd  alogp\n",
       "0  456.93      4      2   4.20\n",
       "1  520.96      4      1   5.13"
      ]
     },
     "execution_count": 286,
     "metadata": {},
     "output_type": "execute_result"
    }
   ],
   "source": [
    "filename = \"Actives CB1_P21554_Ki.csv\"\n",
    "df = pd.read_csv(path+filename)\n",
    "\n",
    "PandasTools.AddMoleculeColumnToFrame(df, smilesCol=\"canonical_smiles\")\n",
    "df[\"n_hba\"] = df[\"ROMol\"].apply(Descriptors.NumHAcceptors)\n",
    "df[\"n_hbd\"] = df[\"ROMol\"].apply(Descriptors.NumHDonors)\n",
    "df[[\"MW\", \"n_hba\", \"n_hbd\", \"alogp\"]].head(2)"
   ]
  },
  {
   "cell_type": "code",
   "execution_count": null,
   "id": "402d06c0",
   "metadata": {},
   "outputs": [],
   "source": [
    "#df.head(2)"
   ]
  },
  {
   "cell_type": "code",
   "execution_count": 287,
   "id": "96419817",
   "metadata": {},
   "outputs": [
    {
     "data": {
      "text/html": [
       "<div>\n",
       "<style scoped>\n",
       "    .dataframe tbody tr th:only-of-type {\n",
       "        vertical-align: middle;\n",
       "    }\n",
       "\n",
       "    .dataframe tbody tr th {\n",
       "        vertical-align: top;\n",
       "    }\n",
       "\n",
       "    .dataframe thead th {\n",
       "        text-align: right;\n",
       "    }\n",
       "</style>\n",
       "<table border=\"1\" class=\"dataframe\">\n",
       "  <thead>\n",
       "    <tr style=\"text-align: right;\">\n",
       "      <th></th>\n",
       "      <th>MW</th>\n",
       "      <th>n_hba</th>\n",
       "      <th>n_hbd</th>\n",
       "      <th>alogp</th>\n",
       "    </tr>\n",
       "  </thead>\n",
       "  <tbody>\n",
       "    <tr>\n",
       "      <th>count</th>\n",
       "      <td>2670.000000</td>\n",
       "      <td>2670.000000</td>\n",
       "      <td>2670.000000</td>\n",
       "      <td>2670.000000</td>\n",
       "    </tr>\n",
       "    <tr>\n",
       "      <th>mean</th>\n",
       "      <td>444.386674</td>\n",
       "      <td>4.101873</td>\n",
       "      <td>0.989513</td>\n",
       "      <td>5.337165</td>\n",
       "    </tr>\n",
       "    <tr>\n",
       "      <th>std</th>\n",
       "      <td>78.468886</td>\n",
       "      <td>1.578030</td>\n",
       "      <td>0.774671</td>\n",
       "      <td>1.364656</td>\n",
       "    </tr>\n",
       "    <tr>\n",
       "      <th>min</th>\n",
       "      <td>247.380000</td>\n",
       "      <td>0.000000</td>\n",
       "      <td>0.000000</td>\n",
       "      <td>0.800000</td>\n",
       "    </tr>\n",
       "    <tr>\n",
       "      <th>25%</th>\n",
       "      <td>387.520000</td>\n",
       "      <td>3.000000</td>\n",
       "      <td>0.000000</td>\n",
       "      <td>4.410000</td>\n",
       "    </tr>\n",
       "    <tr>\n",
       "      <th>50%</th>\n",
       "      <td>436.855000</td>\n",
       "      <td>4.000000</td>\n",
       "      <td>1.000000</td>\n",
       "      <td>5.380000</td>\n",
       "    </tr>\n",
       "    <tr>\n",
       "      <th>75%</th>\n",
       "      <td>488.015000</td>\n",
       "      <td>5.000000</td>\n",
       "      <td>1.000000</td>\n",
       "      <td>6.270000</td>\n",
       "    </tr>\n",
       "    <tr>\n",
       "      <th>max</th>\n",
       "      <td>858.480000</td>\n",
       "      <td>11.000000</td>\n",
       "      <td>5.000000</td>\n",
       "      <td>11.450000</td>\n",
       "    </tr>\n",
       "  </tbody>\n",
       "</table>\n",
       "</div>"
      ],
      "text/plain": [
       "                MW        n_hba        n_hbd        alogp\n",
       "count  2670.000000  2670.000000  2670.000000  2670.000000\n",
       "mean    444.386674     4.101873     0.989513     5.337165\n",
       "std      78.468886     1.578030     0.774671     1.364656\n",
       "min     247.380000     0.000000     0.000000     0.800000\n",
       "25%     387.520000     3.000000     0.000000     4.410000\n",
       "50%     436.855000     4.000000     1.000000     5.380000\n",
       "75%     488.015000     5.000000     1.000000     6.270000\n",
       "max     858.480000    11.000000     5.000000    11.450000"
      ]
     },
     "execution_count": 287,
     "metadata": {},
     "output_type": "execute_result"
    }
   ],
   "source": [
    "df_Ro5_properties = df[[\"MW\", \"n_hba\", \"n_hbd\", \"alogp\"]]\n",
    "df_Ro5_properties.describe()"
   ]
  },
  {
   "cell_type": "markdown",
   "id": "1b07eb6a",
   "metadata": {},
   "source": [
    "##### Drop ROMol column and save dataset"
   ]
  },
  {
   "cell_type": "code",
   "execution_count": null,
   "id": "0b6b19eb",
   "metadata": {},
   "outputs": [],
   "source": [
    "#output_df = df.drop([\"ROMol\",\"maccs\",\"morgan\"], axis=1)\n",
    "#print(\"DataFrame shape\", output_df.shape)\n",
    "#output_df.to_csv(path+filename, index=False)"
   ]
  },
  {
   "cell_type": "markdown",
   "id": "b00cc55e",
   "metadata": {},
   "source": [
    "### Inactives Aquisition\n",
    "* Random sample 10 decoys for each active\n",
    "* Don't accept if TANIMOTO is higher than 0.9"
   ]
  },
  {
   "cell_type": "code",
   "execution_count": 77,
   "id": "e575c683",
   "metadata": {},
   "outputs": [],
   "source": [
    "from random import sample"
   ]
  },
  {
   "cell_type": "code",
   "execution_count": 78,
   "id": "f02155f0",
   "metadata": {},
   "outputs": [],
   "source": [
    "path = '/Users/hek/Research/Cheminformatics/Project_1_NPS/Stimulant vs. Hallucinogens/Dataset/Bioassay data/ChEMBL data/'\n",
    "output_path = '/Users/hek/Research/Cheminformatics/Project_1_NPS/Stimulant vs. Hallucinogens/ChEMBL Dataset ML results/'"
   ]
  },
  {
   "cell_type": "code",
   "execution_count": 79,
   "id": "72c6e9fc",
   "metadata": {},
   "outputs": [],
   "source": [
    "DUDE_path = \"/Users/hek/Research/Cheminformatics/DUDE database/\"\n",
    "Decoy_path = DUDE_path + \"Decoys/\"\n",
    "df_decoy = pd.read_csv(Decoy_path+\"Merged DUD Decoys with canonical smiles.csv\")\n",
    "decoy_index = df_decoy.shape[0]"
   ]
  },
  {
   "cell_type": "code",
   "execution_count": 102,
   "id": "aca3f787",
   "metadata": {},
   "outputs": [],
   "source": [
    "df_list = pd.read_excel(path+\"Target - Assays - Model list.xlsx\")"
   ]
  },
  {
   "cell_type": "code",
   "execution_count": 81,
   "id": "5de46b30",
   "metadata": {},
   "outputs": [],
   "source": [
    "def sample_decoys(df_active):\n",
    "    print(df_active.shape[0])\n",
    "    decoy_smi_list = []\n",
    "    df_inactive = pd.DataFrame()\n",
    "    for active_smi in df_active['canonical_smiles']:\n",
    "        m_active = Chem.MolFromSmiles(active_smi)\n",
    "        fp_maccs_active = MACCSkeys.GenMACCSKeys(m_active)\n",
    "        fp_morgan_active = AllChem.GetMorganFingerprintAsBitVect(m_active, 2, nBits=1024)\n",
    "        # Random sample 4 decoys without replacement\n",
    "        random_4 = sample(range(decoy_index),4)\n",
    "        for i in random_4:\n",
    "            decoy_smi = df_decoy.iloc[i,][1]\n",
    "            #print(decoy_smi)\n",
    "            m_decoy = Chem.MolFromSmiles(decoy_smi)\n",
    "            fp_maccs_decoy = MACCSkeys.GenMACCSKeys(m_decoy)\n",
    "            fp_morgan_decoy = AllChem.GetMorganFingerprintAsBitVect(m_decoy, 2, nBits=1024)\n",
    "            \n",
    "            assert DataStructs.TanimotoSimilarity(fp_maccs_active, fp_maccs_decoy)< 0.9\n",
    "            assert DataStructs.TanimotoSimilarity(fp_morgan_active, fp_morgan_decoy)< 0.9\n",
    "            \n",
    "            decoy_smi_list.append(decoy_smi)\n",
    "    print(len(decoy_smi_list))\n",
    "    df_inactive[\"canonical_smiles\"] = decoy_smi_list\n",
    "    \n",
    "    return df_inactive"
   ]
  },
  {
   "cell_type": "code",
   "execution_count": 82,
   "id": "b94a9003",
   "metadata": {},
   "outputs": [],
   "source": [
    "def merge_final_dataset(df_active, df_inactive):\n",
    "    df_inactive[\"active\"] = np.zeros(len(df_inactive))\n",
    "    df_active=df_active[[\"canonical_smiles\",\"active\"]]\n",
    "    print(df_active.shape)\n",
    "    df_inactive=df_inactive[[\"canonical_smiles\",\"active\"]]\n",
    "    print(df_inactive.shape)\n",
    "    df_merge = pd.concat([df_active, df_inactive], axis=0)\n",
    "    print(df_merge.shape)\n",
    "    \n",
    "    return df_merge"
   ]
  },
  {
   "cell_type": "code",
   "execution_count": 91,
   "id": "539c5843",
   "metadata": {},
   "outputs": [
    {
     "name": "stdout",
     "output_type": "stream",
     "text": [
      "Assembling dataset 1\n",
      "2670\n",
      "10680\n",
      "(2670, 2)\n",
      "(10680, 2)\n",
      "(13350, 2)\n",
      "Assembling dataset 2\n",
      "631\n"
     ]
    },
    {
     "ename": "KeyboardInterrupt",
     "evalue": "",
     "output_type": "error",
     "traceback": [
      "\u001b[0;31m---------------------------------------------------------------------------\u001b[0m",
      "\u001b[0;31mKeyboardInterrupt\u001b[0m                         Traceback (most recent call last)",
      "\u001b[0;32m<ipython-input-91-00a49e18eacf>\u001b[0m in \u001b[0;36m<module>\u001b[0;34m\u001b[0m\n\u001b[1;32m     11\u001b[0m     \u001b[0mdf_list\u001b[0m\u001b[0;34m.\u001b[0m\u001b[0mloc\u001b[0m\u001b[0;34m[\u001b[0m\u001b[0mi\u001b[0m\u001b[0;34m,\u001b[0m\u001b[0;34m\"N_actives_p5\"\u001b[0m\u001b[0;34m]\u001b[0m \u001b[0;34m=\u001b[0m \u001b[0mdf_active\u001b[0m\u001b[0;34m.\u001b[0m\u001b[0mshape\u001b[0m\u001b[0;34m[\u001b[0m\u001b[0;36m0\u001b[0m\u001b[0;34m]\u001b[0m\u001b[0;34m\u001b[0m\u001b[0;34m\u001b[0m\u001b[0m\n\u001b[1;32m     12\u001b[0m     \u001b[0;32mif\u001b[0m \u001b[0mdf_active\u001b[0m\u001b[0;34m.\u001b[0m\u001b[0mshape\u001b[0m\u001b[0;34m[\u001b[0m\u001b[0;36m0\u001b[0m\u001b[0;34m]\u001b[0m \u001b[0;34m>=\u001b[0m \u001b[0;36m50\u001b[0m\u001b[0;34m:\u001b[0m\u001b[0;34m\u001b[0m\u001b[0;34m\u001b[0m\u001b[0m\n\u001b[0;32m---> 13\u001b[0;31m         \u001b[0mdf_inactive\u001b[0m \u001b[0;34m=\u001b[0m \u001b[0msample_decoys\u001b[0m\u001b[0;34m(\u001b[0m\u001b[0mdf_active\u001b[0m\u001b[0;34m)\u001b[0m\u001b[0;34m\u001b[0m\u001b[0;34m\u001b[0m\u001b[0m\n\u001b[0m\u001b[1;32m     14\u001b[0m         \u001b[0mdf_final\u001b[0m \u001b[0;34m=\u001b[0m \u001b[0mmerge_final_dataset\u001b[0m\u001b[0;34m(\u001b[0m\u001b[0mdf_active\u001b[0m\u001b[0;34m,\u001b[0m \u001b[0mdf_inactive\u001b[0m\u001b[0;34m)\u001b[0m\u001b[0;34m\u001b[0m\u001b[0;34m\u001b[0m\u001b[0m\n\u001b[1;32m     15\u001b[0m \u001b[0;34m\u001b[0m\u001b[0m\n",
      "\u001b[0;32m<ipython-input-81-ad72d4e3e731>\u001b[0m in \u001b[0;36msample_decoys\u001b[0;34m(df_active)\u001b[0m\n\u001b[1;32m     13\u001b[0m             \u001b[0;31m#print(decoy_smi)\u001b[0m\u001b[0;34m\u001b[0m\u001b[0;34m\u001b[0m\u001b[0;34m\u001b[0m\u001b[0m\n\u001b[1;32m     14\u001b[0m             \u001b[0mm_decoy\u001b[0m \u001b[0;34m=\u001b[0m \u001b[0mChem\u001b[0m\u001b[0;34m.\u001b[0m\u001b[0mMolFromSmiles\u001b[0m\u001b[0;34m(\u001b[0m\u001b[0mdecoy_smi\u001b[0m\u001b[0;34m)\u001b[0m\u001b[0;34m\u001b[0m\u001b[0;34m\u001b[0m\u001b[0m\n\u001b[0;32m---> 15\u001b[0;31m             \u001b[0mfp_maccs_decoy\u001b[0m \u001b[0;34m=\u001b[0m \u001b[0mMACCSkeys\u001b[0m\u001b[0;34m.\u001b[0m\u001b[0mGenMACCSKeys\u001b[0m\u001b[0;34m(\u001b[0m\u001b[0mm_decoy\u001b[0m\u001b[0;34m)\u001b[0m\u001b[0;34m\u001b[0m\u001b[0;34m\u001b[0m\u001b[0m\n\u001b[0m\u001b[1;32m     16\u001b[0m             \u001b[0mfp_morgan_decoy\u001b[0m \u001b[0;34m=\u001b[0m \u001b[0mAllChem\u001b[0m\u001b[0;34m.\u001b[0m\u001b[0mGetMorganFingerprintAsBitVect\u001b[0m\u001b[0;34m(\u001b[0m\u001b[0mm_decoy\u001b[0m\u001b[0;34m,\u001b[0m \u001b[0;36m2\u001b[0m\u001b[0;34m,\u001b[0m \u001b[0mnBits\u001b[0m\u001b[0;34m=\u001b[0m\u001b[0;36m1024\u001b[0m\u001b[0;34m)\u001b[0m\u001b[0;34m\u001b[0m\u001b[0;34m\u001b[0m\u001b[0m\n\u001b[1;32m     17\u001b[0m \u001b[0;34m\u001b[0m\u001b[0m\n",
      "\u001b[0;31mKeyboardInterrupt\u001b[0m: "
     ]
    }
   ],
   "source": [
    "count = 1 \n",
    "for i in range(df_list.shape[0]):\n",
    "#for i in range(2):\n",
    "    print(\"Assembling dataset\", count)\n",
    "    target = df_list.loc[i,\"Target\"]\n",
    "    UniProtKB = df_list.loc[i,'UniProtKB']\n",
    "    Act_type = df_list.loc[i,'Activity_type']\n",
    "    filename = \"Actives >= 5.0 \"+target+'_'+UniProtKB+'_'+Act_type+'.csv'\n",
    "    #print(filename)\n",
    "    df_active = pd.read_csv(path+filename)\n",
    "    df_list.loc[i,\"N_actives_p5\"] = df_active.shape[0]\n",
    "    if df_active.shape[0] >= 50:\n",
    "        df_inactive = sample_decoys(df_active)\n",
    "        df_final = merge_final_dataset(df_active, df_inactive)\n",
    "        \n",
    "        #Calculate bit vector maccsfp and morganfp fingerprints \n",
    "        PandasTools.AddMoleculeColumnToFrame(df_final, smilesCol=\"canonical_smiles\")\n",
    "        df_final[\"maccs\"] = df_final.ROMol.apply(MACCSkeys.GenMACCSKeys)\n",
    "        df_final[\"maccsfp\"] = df_final[\"maccs\"].apply(lambda x: x.ToBitString()[1:])\n",
    "\n",
    "        df_final[\"morgan\"] = df_final.ROMol.apply(lambda x: AllChem.GetMorganFingerprintAsBitVect(x,2, nBits=1024))\n",
    "        df_final[\"morganfp\"] = df_final[\"morgan\"].apply(lambda x: x.ToBitString())\n",
    "        \n",
    "        #save final dataset\n",
    "        df_final_output = df_final.drop([\"ROMol\",\"maccs\",\"morgan\"], axis=1)\n",
    "        df_final_output.to_csv(path+\"Final dataset \"+filename, index=False)\n",
    "        count += 1\n",
    "    else:\n",
    "        continue  \n",
    "print(count)    \n",
    "print(\"A total of \",count, \"final model training datasets are prepared!!!\")"
   ]
  },
  {
   "cell_type": "code",
   "execution_count": 89,
   "id": "4524b22a",
   "metadata": {},
   "outputs": [],
   "source": [
    "df_list.to_excel(path+\"Target - Assays - Model list.xlsx\",index=False)"
   ]
  },
  {
   "cell_type": "markdown",
   "id": "7b3d2073",
   "metadata": {},
   "source": [
    "##### Inactives for NPS set"
   ]
  },
  {
   "cell_type": "code",
   "execution_count": 2171,
   "id": "31cb2207",
   "metadata": {},
   "outputs": [
    {
     "name": "stdout",
     "output_type": "stream",
     "text": [
      "Number of NPS compounds 189\n"
     ]
    },
    {
     "data": {
      "text/html": [
       "<div>\n",
       "<style scoped>\n",
       "    .dataframe tbody tr th:only-of-type {\n",
       "        vertical-align: middle;\n",
       "    }\n",
       "\n",
       "    .dataframe tbody tr th {\n",
       "        vertical-align: top;\n",
       "    }\n",
       "\n",
       "    .dataframe thead th {\n",
       "        text-align: right;\n",
       "    }\n",
       "</style>\n",
       "<table border=\"1\" class=\"dataframe\">\n",
       "  <thead>\n",
       "    <tr style=\"text-align: right;\">\n",
       "      <th></th>\n",
       "      <th>Name</th>\n",
       "      <th>Other name</th>\n",
       "      <th>Formula</th>\n",
       "      <th>MW</th>\n",
       "      <th>CAS</th>\n",
       "      <th>PubChem CID</th>\n",
       "      <th>RotBondCount</th>\n",
       "      <th>Conformers</th>\n",
       "      <th>Canonical SMILES</th>\n",
       "      <th>Pharm class</th>\n",
       "      <th>Pharm target</th>\n",
       "      <th>Pharm class label</th>\n",
       "      <th>Chem core</th>\n",
       "      <th>InChI Key</th>\n",
       "      <th>StdInChI</th>\n",
       "      <th>canonical_smiles</th>\n",
       "      <th>maccsfp</th>\n",
       "      <th>morganfp</th>\n",
       "    </tr>\n",
       "  </thead>\n",
       "  <tbody>\n",
       "    <tr>\n",
       "      <th>0</th>\n",
       "      <td>Heroin</td>\n",
       "      <td>NaN</td>\n",
       "      <td>C21H23NO5</td>\n",
       "      <td>369.40</td>\n",
       "      <td>561-27-3</td>\n",
       "      <td>5462328</td>\n",
       "      <td>4</td>\n",
       "      <td>9.0</td>\n",
       "      <td>CC(=O)OC1C=CC2C3CC4=C5C2(C1OC5=C(C=C4)OC(=O)C)...</td>\n",
       "      <td>Sedatives</td>\n",
       "      <td>μ-opioid receptor</td>\n",
       "      <td>1</td>\n",
       "      <td>Alkaloid</td>\n",
       "      <td>GVGLGOZIDCSQPN-PVHGPHFFSA-N</td>\n",
       "      <td>InChI=1S/C21H23NO5/c1-11(23)25-16-6-4-13-10-15...</td>\n",
       "      <td>CC(=O)Oc1ccc2c3c1OC1C(OC(C)=O)C=CC4C(C2)N(C)CC...</td>\n",
       "      <td>0000000000000000000000000000000000000000000000...</td>\n",
       "      <td>0000000000010001000000000000000001001000000000...</td>\n",
       "    </tr>\n",
       "    <tr>\n",
       "      <th>1</th>\n",
       "      <td>Morphine</td>\n",
       "      <td>NaN</td>\n",
       "      <td>C17H19NO3</td>\n",
       "      <td>285.34</td>\n",
       "      <td>57-27-2</td>\n",
       "      <td>5288826</td>\n",
       "      <td>0</td>\n",
       "      <td>1.0</td>\n",
       "      <td>CN1CCC23C4C1CC5=C2C(=C(C=C5)O)OC3C(C=C4)O</td>\n",
       "      <td>Sedatives</td>\n",
       "      <td>μ-opioid receptor</td>\n",
       "      <td>1</td>\n",
       "      <td>Alkaloid</td>\n",
       "      <td>BQJCRHHNABKAKU-KBQPJGBKSA-N</td>\n",
       "      <td>InChI=1S/C17H19NO3/c1-18-7-6-17-10-3-5-13(20)1...</td>\n",
       "      <td>CN1CCC23c4c5ccc(O)c4OC2C(O)C=CC3C1C5</td>\n",
       "      <td>0000000000000000000000000000000000000000000000...</td>\n",
       "      <td>0000000000000001000000000000000001001000000000...</td>\n",
       "    </tr>\n",
       "  </tbody>\n",
       "</table>\n",
       "</div>"
      ],
      "text/plain": [
       "       Name Other name    Formula      MW       CAS  PubChem CID  \\\n",
       "0    Heroin        NaN  C21H23NO5  369.40  561-27-3      5462328   \n",
       "1  Morphine        NaN  C17H19NO3  285.34   57-27-2      5288826   \n",
       "\n",
       "   RotBondCount  Conformers  \\\n",
       "0             4         9.0   \n",
       "1             0         1.0   \n",
       "\n",
       "                                    Canonical SMILES Pharm class  \\\n",
       "0  CC(=O)OC1C=CC2C3CC4=C5C2(C1OC5=C(C=C4)OC(=O)C)...   Sedatives   \n",
       "1          CN1CCC23C4C1CC5=C2C(=C(C=C5)O)OC3C(C=C4)O   Sedatives   \n",
       "\n",
       "        Pharm target  Pharm class label Chem core  \\\n",
       "0  μ-opioid receptor                  1  Alkaloid   \n",
       "1  μ-opioid receptor                  1  Alkaloid   \n",
       "\n",
       "                     InChI Key  \\\n",
       "0  GVGLGOZIDCSQPN-PVHGPHFFSA-N   \n",
       "1  BQJCRHHNABKAKU-KBQPJGBKSA-N   \n",
       "\n",
       "                                            StdInChI  \\\n",
       "0  InChI=1S/C21H23NO5/c1-11(23)25-16-6-4-13-10-15...   \n",
       "1  InChI=1S/C17H19NO3/c1-18-7-6-17-10-3-5-13(20)1...   \n",
       "\n",
       "                                    canonical_smiles  \\\n",
       "0  CC(=O)Oc1ccc2c3c1OC1C(OC(C)=O)C=CC4C(C2)N(C)CC...   \n",
       "1               CN1CCC23c4c5ccc(O)c4OC2C(O)C=CC3C1C5   \n",
       "\n",
       "                                             maccsfp  \\\n",
       "0  0000000000000000000000000000000000000000000000...   \n",
       "1  0000000000000000000000000000000000000000000000...   \n",
       "\n",
       "                                            morganfp  \n",
       "0  0000000000010001000000000000000001001000000000...  \n",
       "1  0000000000000001000000000000000001001000000000...  "
      ]
     },
     "execution_count": 2171,
     "metadata": {},
     "output_type": "execute_result"
    }
   ],
   "source": [
    "filename = \"Drugs Raman or SERS in literature _ Paper 1.csv\"\n",
    "output_filename = \"Decoys Drugs Raman or SERS in literature _ Paper 1.csv\"\n",
    "df_active = pd.read_csv(output_path+filename)\n",
    "print(\"Number of NPS compounds\", df_active.shape[0])\n",
    "df_active.head(2)"
   ]
  },
  {
   "cell_type": "code",
   "execution_count": 2148,
   "id": "4df3665a",
   "metadata": {},
   "outputs": [],
   "source": [
    "# Convert \"Canonical SMILES\" to standardized \"canonical_smiles\" using RDKit\n",
    "df_active['canonical_smiles'] = [Chem.MolToSmiles(Chem.MolFromSmiles(smi),True) for smi in df_active[\"Canonical SMILES\"]]"
   ]
  },
  {
   "cell_type": "code",
   "execution_count": 2149,
   "id": "43a5867d",
   "metadata": {},
   "outputs": [
    {
     "name": "stdout",
     "output_type": "stream",
     "text": [
      "189\n",
      "756\n",
      "756\n"
     ]
    }
   ],
   "source": [
    "# Also random sample 4 decoys for each NPS compound\n",
    "df_inactive = sample_decoys(df_active)\n",
    "print(df_inactive.shape[0])"
   ]
  },
  {
   "cell_type": "code",
   "execution_count": 2153,
   "id": "aff2c401",
   "metadata": {},
   "outputs": [],
   "source": [
    "# Calculate bit vector maccs and morgan fingerprint for both NPS and decoys\n",
    "PandasTools.AddMoleculeColumnToFrame(df_active, smilesCol=\"canonical_smiles\")\n",
    "df_active[\"maccs\"] = df_active.ROMol.apply(MACCSkeys.GenMACCSKeys)\n",
    "df_active[\"maccsfp\"] = df_active[\"maccs\"].apply(lambda x: x.ToBitString()[1:])\n",
    "\n",
    "df_active[\"morgan\"] = df_active.ROMol.apply(lambda x: AllChem.GetMorganFingerprintAsBitVect(x,2, nBits=1024))\n",
    "df_active[\"morganfp\"] = df_active[\"morgan\"].apply(lambda x: x.ToBitString())"
   ]
  },
  {
   "cell_type": "code",
   "execution_count": 2167,
   "id": "17954e24",
   "metadata": {},
   "outputs": [],
   "source": [
    "df_active_output = df_active.drop([\"ROMol\",\"maccs\",\"morgan\"], axis=1)\n",
    "\n",
    "df_active_output.to_csv(output_path+filename,index=False)"
   ]
  },
  {
   "cell_type": "code",
   "execution_count": 2166,
   "id": "51d1c27d",
   "metadata": {},
   "outputs": [
    {
     "data": {
      "text/html": [
       "<div>\n",
       "<style scoped>\n",
       "    .dataframe tbody tr th:only-of-type {\n",
       "        vertical-align: middle;\n",
       "    }\n",
       "\n",
       "    .dataframe tbody tr th {\n",
       "        vertical-align: top;\n",
       "    }\n",
       "\n",
       "    .dataframe thead th {\n",
       "        text-align: right;\n",
       "    }\n",
       "</style>\n",
       "<table border=\"1\" class=\"dataframe\">\n",
       "  <thead>\n",
       "    <tr style=\"text-align: right;\">\n",
       "      <th></th>\n",
       "      <th>Name</th>\n",
       "      <th>Other name</th>\n",
       "      <th>Formula</th>\n",
       "      <th>MW</th>\n",
       "      <th>CAS</th>\n",
       "      <th>PubChem CID</th>\n",
       "      <th>RotBondCount</th>\n",
       "      <th>Conformers</th>\n",
       "      <th>Canonical SMILES</th>\n",
       "      <th>Pharm class</th>\n",
       "      <th>Pharm target</th>\n",
       "      <th>Pharm class label</th>\n",
       "      <th>Chem core</th>\n",
       "      <th>InChI Key</th>\n",
       "      <th>StdInChI</th>\n",
       "      <th>canonical_smiles</th>\n",
       "      <th>maccsfp</th>\n",
       "      <th>morganfp</th>\n",
       "    </tr>\n",
       "  </thead>\n",
       "  <tbody>\n",
       "    <tr>\n",
       "      <th>0</th>\n",
       "      <td>Heroin</td>\n",
       "      <td>NaN</td>\n",
       "      <td>C21H23NO5</td>\n",
       "      <td>369.40</td>\n",
       "      <td>561-27-3</td>\n",
       "      <td>5462328</td>\n",
       "      <td>4</td>\n",
       "      <td>9.0</td>\n",
       "      <td>CC(=O)OC1C=CC2C3CC4=C5C2(C1OC5=C(C=C4)OC(=O)C)...</td>\n",
       "      <td>Sedatives</td>\n",
       "      <td>μ-opioid receptor</td>\n",
       "      <td>1</td>\n",
       "      <td>Alkaloid</td>\n",
       "      <td>GVGLGOZIDCSQPN-PVHGPHFFSA-N</td>\n",
       "      <td>InChI=1S/C21H23NO5/c1-11(23)25-16-6-4-13-10-15...</td>\n",
       "      <td>CC(=O)Oc1ccc2c3c1OC1C(OC(C)=O)C=CC4C(C2)N(C)CC...</td>\n",
       "      <td>0000000000000000000000000000000000000000000000...</td>\n",
       "      <td>0000000000010001000000000000000001001000000000...</td>\n",
       "    </tr>\n",
       "    <tr>\n",
       "      <th>1</th>\n",
       "      <td>Morphine</td>\n",
       "      <td>NaN</td>\n",
       "      <td>C17H19NO3</td>\n",
       "      <td>285.34</td>\n",
       "      <td>57-27-2</td>\n",
       "      <td>5288826</td>\n",
       "      <td>0</td>\n",
       "      <td>1.0</td>\n",
       "      <td>CN1CCC23C4C1CC5=C2C(=C(C=C5)O)OC3C(C=C4)O</td>\n",
       "      <td>Sedatives</td>\n",
       "      <td>μ-opioid receptor</td>\n",
       "      <td>1</td>\n",
       "      <td>Alkaloid</td>\n",
       "      <td>BQJCRHHNABKAKU-KBQPJGBKSA-N</td>\n",
       "      <td>InChI=1S/C17H19NO3/c1-18-7-6-17-10-3-5-13(20)1...</td>\n",
       "      <td>CN1CCC23c4c5ccc(O)c4OC2C(O)C=CC3C1C5</td>\n",
       "      <td>0000000000000000000000000000000000000000000000...</td>\n",
       "      <td>0000000000000001000000000000000001001000000000...</td>\n",
       "    </tr>\n",
       "  </tbody>\n",
       "</table>\n",
       "</div>"
      ],
      "text/plain": [
       "       Name Other name    Formula      MW       CAS  PubChem CID  \\\n",
       "0    Heroin        NaN  C21H23NO5  369.40  561-27-3      5462328   \n",
       "1  Morphine        NaN  C17H19NO3  285.34   57-27-2      5288826   \n",
       "\n",
       "   RotBondCount  Conformers  \\\n",
       "0             4         9.0   \n",
       "1             0         1.0   \n",
       "\n",
       "                                    Canonical SMILES Pharm class  \\\n",
       "0  CC(=O)OC1C=CC2C3CC4=C5C2(C1OC5=C(C=C4)OC(=O)C)...   Sedatives   \n",
       "1          CN1CCC23C4C1CC5=C2C(=C(C=C5)O)OC3C(C=C4)O   Sedatives   \n",
       "\n",
       "        Pharm target  Pharm class label Chem core  \\\n",
       "0  μ-opioid receptor                  1  Alkaloid   \n",
       "1  μ-opioid receptor                  1  Alkaloid   \n",
       "\n",
       "                     InChI Key  \\\n",
       "0  GVGLGOZIDCSQPN-PVHGPHFFSA-N   \n",
       "1  BQJCRHHNABKAKU-KBQPJGBKSA-N   \n",
       "\n",
       "                                            StdInChI  \\\n",
       "0  InChI=1S/C21H23NO5/c1-11(23)25-16-6-4-13-10-15...   \n",
       "1  InChI=1S/C17H19NO3/c1-18-7-6-17-10-3-5-13(20)1...   \n",
       "\n",
       "                                    canonical_smiles  \\\n",
       "0  CC(=O)Oc1ccc2c3c1OC1C(OC(C)=O)C=CC4C(C2)N(C)CC...   \n",
       "1               CN1CCC23c4c5ccc(O)c4OC2C(O)C=CC3C1C5   \n",
       "\n",
       "                                             maccsfp  \\\n",
       "0  0000000000000000000000000000000000000000000000...   \n",
       "1  0000000000000000000000000000000000000000000000...   \n",
       "\n",
       "                                            morganfp  \n",
       "0  0000000000010001000000000000000001001000000000...  \n",
       "1  0000000000000001000000000000000001001000000000...  "
      ]
     },
     "execution_count": 2166,
     "metadata": {},
     "output_type": "execute_result"
    }
   ],
   "source": [
    "df_active_output.head(2)"
   ]
  },
  {
   "cell_type": "code",
   "execution_count": 2168,
   "id": "cd87d349",
   "metadata": {},
   "outputs": [],
   "source": [
    "PandasTools.AddMoleculeColumnToFrame(df_inactive, smilesCol=\"canonical_smiles\")\n",
    "df_inactive[\"maccs\"] = df_inactive.ROMol.apply(MACCSkeys.GenMACCSKeys)\n",
    "df_inactive[\"maccsfp\"] = df_inactive[\"maccs\"].apply(lambda x: x.ToBitString()[1:])\n",
    "\n",
    "df_inactive[\"morgan\"] = df_inactive.ROMol.apply(lambda x: AllChem.GetMorganFingerprintAsBitVect(x,2, nBits=1024))\n",
    "df_inactive[\"morganfp\"] = df_inactive[\"morgan\"].apply(lambda x: x.ToBitString())"
   ]
  },
  {
   "cell_type": "code",
   "execution_count": 2172,
   "id": "78c92df7",
   "metadata": {},
   "outputs": [],
   "source": [
    "df_inactive_output = df_inactive.drop([\"ROMol\",\"maccs\",\"morgan\"], axis=1)\n",
    "df_inactive_output.to_csv(output_path+output_filename, index=False)"
   ]
  },
  {
   "cell_type": "code",
   "execution_count": 2173,
   "id": "0fbce87f",
   "metadata": {},
   "outputs": [
    {
     "data": {
      "text/html": [
       "<div>\n",
       "<style scoped>\n",
       "    .dataframe tbody tr th:only-of-type {\n",
       "        vertical-align: middle;\n",
       "    }\n",
       "\n",
       "    .dataframe tbody tr th {\n",
       "        vertical-align: top;\n",
       "    }\n",
       "\n",
       "    .dataframe thead th {\n",
       "        text-align: right;\n",
       "    }\n",
       "</style>\n",
       "<table border=\"1\" class=\"dataframe\">\n",
       "  <thead>\n",
       "    <tr style=\"text-align: right;\">\n",
       "      <th></th>\n",
       "      <th>canonical_smiles</th>\n",
       "      <th>maccsfp</th>\n",
       "      <th>morganfp</th>\n",
       "    </tr>\n",
       "  </thead>\n",
       "  <tbody>\n",
       "    <tr>\n",
       "      <th>0</th>\n",
       "      <td>CN1C(=O)N[C@H](c2ccc([N+](=O)[O-])cc2)[C@@H](C...</td>\n",
       "      <td>0000000000000000000000010000000000011000010000...</td>\n",
       "      <td>0000000000000010000000000000000001001000000000...</td>\n",
       "    </tr>\n",
       "    <tr>\n",
       "      <th>1</th>\n",
       "      <td>C[C@H](NC(=O)Nc1ccc(NC(=O)c2ccco2)cc1C(F)(F)F)...</td>\n",
       "      <td>0000000000000000000000000000000000001000011000...</td>\n",
       "      <td>0100000000000000010000000000000001000000001000...</td>\n",
       "    </tr>\n",
       "  </tbody>\n",
       "</table>\n",
       "</div>"
      ],
      "text/plain": [
       "                                    canonical_smiles  \\\n",
       "0  CN1C(=O)N[C@H](c2ccc([N+](=O)[O-])cc2)[C@@H](C...   \n",
       "1  C[C@H](NC(=O)Nc1ccc(NC(=O)c2ccco2)cc1C(F)(F)F)...   \n",
       "\n",
       "                                             maccsfp  \\\n",
       "0  0000000000000000000000010000000000011000010000...   \n",
       "1  0000000000000000000000000000000000001000011000...   \n",
       "\n",
       "                                            morganfp  \n",
       "0  0000000000000010000000000000000001001000000000...  \n",
       "1  0100000000000000010000000000000001000000001000...  "
      ]
     },
     "execution_count": 2173,
     "metadata": {},
     "output_type": "execute_result"
    }
   ],
   "source": [
    "df_inactive_output.head(2)"
   ]
  },
  {
   "cell_type": "code",
   "execution_count": null,
   "id": "68bdb4e8",
   "metadata": {},
   "outputs": [],
   "source": []
  },
  {
   "cell_type": "code",
   "execution_count": null,
   "id": "29d9cc14",
   "metadata": {},
   "outputs": [],
   "source": []
  },
  {
   "cell_type": "code",
   "execution_count": null,
   "id": "172e1e1e",
   "metadata": {},
   "outputs": [],
   "source": []
  }
 ],
 "metadata": {
  "kernelspec": {
   "display_name": "Python 3",
   "language": "python",
   "name": "python3"
  },
  "language_info": {
   "codemirror_mode": {
    "name": "ipython",
    "version": 3
   },
   "file_extension": ".py",
   "mimetype": "text/x-python",
   "name": "python",
   "nbconvert_exporter": "python",
   "pygments_lexer": "ipython3",
   "version": "3.9.6"
  }
 },
 "nbformat": 4,
 "nbformat_minor": 5
}
